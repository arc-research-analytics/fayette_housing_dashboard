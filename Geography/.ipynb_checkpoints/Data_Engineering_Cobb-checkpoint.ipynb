{
 "cells": [
  {
   "cell_type": "code",
   "execution_count": 1,
   "id": "8061f564-9a03-4f82-9310-e496455fe004",
   "metadata": {},
   "outputs": [],
   "source": [
    "import geopandas as gpd\n",
    "import pandas as pd"
   ]
  },
  {
   "cell_type": "markdown",
   "id": "ce4ae2df-6247-4996-acea-f28f6ce65d18",
   "metadata": {},
   "source": [
    "# spatial join"
   ]
  },
  {
   "cell_type": "code",
   "execution_count": 14,
   "id": "949d4e77-fdf5-4ffe-a832-4c71b7b90b59",
   "metadata": {},
   "outputs": [
    {
     "name": "stdout",
     "output_type": "stream",
     "text": [
      "complete!\n"
     ]
    }
   ],
   "source": [
    "# geocoded sales\n",
    "sales = pd.read_csv('../Data/Geocoded_cobb.csv')\n",
    "sales = sales.loc[:, ~sales.columns.str.startswith('Unnamed')]\n",
    "sales = gpd.GeoDataFrame(\n",
    "    sales, \n",
    "    geometry=gpd.points_from_xy(sales['long'], sales['lat']), \n",
    "    crs=\"EPSG:4326\"\n",
    ")\n",
    "\n",
    "# custom geographies\n",
    "superDistricts = gpd.read_file('Cobb_geos.gpkg')\n",
    "superDistricts.crs = \"EPSG:4326\"\n",
    "\n",
    "joined_data = gpd.sjoin(sales, superDistricts)\n",
    "\n",
    "joined_data = joined_data[[\n",
    "    'full_address',\n",
    "    'sale_date',\n",
    "    'sale_price',\n",
    "    'price_num',\n",
    "    'sq_feet',\n",
    "    'price_sf',\n",
    "    'lat',\n",
    "    'long',\n",
    "    'Sub_geo'\n",
    "]]\n",
    "\n",
    "joined_data.to_csv('Cobb_18-23.csv')\n",
    "print('complete!')"
   ]
  },
  {
   "cell_type": "markdown",
   "id": "ed9aeb3b-8107-494d-8242-4c1ebfe14c13",
   "metadata": {},
   "source": [
    "# create additional columns, clean, export"
   ]
  },
  {
   "cell_type": "code",
   "execution_count": 15,
   "id": "9560f8f4-7a86-4209-85aa-8c25f0e315a6",
   "metadata": {},
   "outputs": [
    {
     "name": "stdout",
     "output_type": "stream",
     "text": [
      "complete!\n"
     ]
    }
   ],
   "source": [
    "join_23 = pd.read_csv('Cobb_18-23.csv')\n",
    "\n",
    "join_23['year_sale'] = pd.DatetimeIndex(join_23['sale_date']).year\n",
    "join_23['year'] = pd.DatetimeIndex(join_23['sale_date']).year\n",
    "join_23['month'] = pd.DatetimeIndex(join_23['sale_date']).month\n",
    "join_23['year-month'] = join_23['year'].astype(str) + '-' + join_23['month'].astype(str)\n",
    "\n",
    "join_23 = join_23.rename(columns={\n",
    "    'sale_date':'Sale Date',\n",
    "    'sale_price':'Sale Price',\n",
    "    'price_sf':'price_sf',\n",
    "    'sq_feet':'Square Ft',\n",
    "    'price_num':'salePrice_numeric'\n",
    "})\n",
    "\n",
    "join_23['GEOID'] = 'dummy'\n",
    "join_23['unique_ID'] = join_23['full_address'] + '-' + join_23['Sale Date'] + '-' + join_23['Sale Price'].astype(str)\n",
    "join_23 = join_23.loc[:, ~join_23.columns.str.startswith('Unnamed')]\n",
    "\n",
    "join_23 = join_23[['full_address', \n",
    "                   'Sale Date', \n",
    "                   'Sale Price', \n",
    "                   'salePrice_numeric', \n",
    "                   'price_sf',\n",
    "                   'Square Ft', \n",
    "                   'lat', \n",
    "                   'long', \n",
    "                   'GEOID', \n",
    "                   'Sub_geo', \n",
    "                   'year_sale', \n",
    "                   'year', \n",
    "                   'month', \n",
    "                   'year-month',\n",
    "                   'unique_ID'\n",
    "                  ]]\n",
    "\n",
    "join_23.to_csv('../Cobb_18-23_dash.csv')\n",
    "print('complete!')"
   ]
  }
 ],
 "metadata": {
  "kernelspec": {
   "display_name": "research",
   "language": "python",
   "name": "research"
  },
  "language_info": {
   "codemirror_mode": {
    "name": "ipython",
    "version": 3
   },
   "file_extension": ".py",
   "mimetype": "text/x-python",
   "name": "python",
   "nbconvert_exporter": "python",
   "pygments_lexer": "ipython3",
   "version": "3.11.4"
  }
 },
 "nbformat": 4,
 "nbformat_minor": 5
}
